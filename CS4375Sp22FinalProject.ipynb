{
 "cells": [
  {
   "cell_type": "markdown",
   "id": "3a96606a",
   "metadata": {},
   "source": [
    "# Semester Project Exercise\n",
    "Data set: https://www.cs.toronto.edu/~kriz/cifar.html\n",
    "        \n",
    "cifar10 Classification using Principal component analysis (PCA), LogisticRegression, RandomForestClassifier, SupportVectorMachines (SVM),\n",
    "KNeighborsClassifier, Tensorflow, and Conv2D (convolutional kernel)."
   ]
  },
  {
   "cell_type": "markdown",
   "id": "4963756d",
   "metadata": {},
   "source": [
    "## Get the Data"
   ]
  },
  {
   "cell_type": "code",
   "execution_count": 51,
   "id": "9666221f",
   "metadata": {},
   "outputs": [],
   "source": [
    "import tensorflow as tf\n",
    "from tensorflow import keras\n",
    "from tensorflow.keras import datasets, layers, models\n",
    "import matplotlib.pyplot as plt\n",
    "import numpy as np\n",
    "import pandas as pd\n",
    "import seaborn as sns\n",
    "from sklearn.decomposition import PCA\n",
    "import ssl"
   ]
  },
  {
   "cell_type": "code",
   "execution_count": 52,
   "id": "7ebe995a",
   "metadata": {},
   "outputs": [],
   "source": [
    "(X_train, y_train), (X_test,y_test) = datasets.cifar10.load_data()"
   ]
  },
  {
   "cell_type": "markdown",
   "id": "41e42958",
   "metadata": {},
   "source": [
    "** check the shapes of X_train, X_test, y_train, y_test"
   ]
  },
  {
   "cell_type": "code",
   "execution_count": 53,
   "id": "9a79ec05",
   "metadata": {},
   "outputs": [
    {
     "data": {
      "text/plain": [
       "((50000, 32, 32, 3), (10000, 32, 32, 3), (50000, 1), (10000, 1))"
      ]
     },
     "execution_count": 53,
     "metadata": {},
     "output_type": "execute_result"
    }
   ],
   "source": [
    "X_train.shape, X_test.shape, y_train.shape, y_test.shape"
   ]
  },
  {
   "cell_type": "markdown",
   "id": "78a4f15b",
   "metadata": {},
   "source": [
    "** create two objects\n",
    "* X_train_flattened\n",
    "* X_test_flattened"
   ]
  },
  {
   "cell_type": "code",
   "execution_count": 54,
   "id": "b89cb406",
   "metadata": {},
   "outputs": [],
   "source": [
    "X_train_flattened = \n",
    "X_test_flattened = "
   ]
  },
  {
   "cell_type": "markdown",
   "id": "7d79cd42",
   "metadata": {},
   "source": [
    "** check the shape for flattened objects\n",
    "\n",
    "* should be ((50000, 3072), (10000, 3072))"
   ]
  },
  {
   "cell_type": "code",
   "execution_count": 55,
   "id": "e39643fd",
   "metadata": {},
   "outputs": [
    {
     "data": {
      "text/plain": [
       "((50000, 3072), (10000, 3072))"
      ]
     },
     "execution_count": 55,
     "metadata": {},
     "output_type": "execute_result"
    }
   ],
   "source": [
    "# syntax to check the shape here\n",
    "X_train_flattened.shape, X_test_flattened.shape"
   ]
  },
  {
   "cell_type": "markdown",
   "id": "e28b0440",
   "metadata": {},
   "source": [
    "** import StandardScaler and create and instance of StandardScaler \n",
    "\n",
    "* using the 2 flattened objects, create scaled instances of X_train and X_test\n",
    "\n",
    "* X_train_scaled\n",
    "* X_test_scaled"
   ]
  },
  {
   "cell_type": "code",
   "execution_count": 56,
   "id": "450e7782",
   "metadata": {},
   "outputs": [],
   "source": [
    "from sklearn.preprocessing import StandardScaler\n",
    "scaler = StandardScaler()\n",
    "X_train_scaled = \n",
    "X_test_scaled = "
   ]
  },
  {
   "cell_type": "markdown",
   "id": "d61b4e69",
   "metadata": {},
   "source": [
    "*** check the shape of the scaler objects\n",
    "\n",
    "* should be ((50000, 3072), (10000, 3072))"
   ]
  },
  {
   "cell_type": "code",
   "execution_count": 57,
   "id": "b78c88b2",
   "metadata": {},
   "outputs": [
    {
     "data": {
      "text/plain": [
       "((50000, 3072), (10000, 3072))"
      ]
     },
     "execution_count": 57,
     "metadata": {},
     "output_type": "execute_result"
    }
   ],
   "source": [
    "X_train_scaled.shape, X_test_scaled.shape"
   ]
  },
  {
   "cell_type": "markdown",
   "id": "38b0ee3e",
   "metadata": {},
   "source": [
    "** create an instance of PCA, and fit_trainform the training data set\n",
    "* Hint: which object to use? X_train? X_train_flattened? X_train_scaled?"
   ]
  },
  {
   "cell_type": "code",
   "execution_count": 71,
   "id": "279a0d15",
   "metadata": {},
   "outputs": [
    {
     "data": {
      "text/plain": [
       "(50000, 221)"
      ]
     },
     "execution_count": 71,
     "metadata": {},
     "output_type": "execute_result"
    }
   ],
   "source": [
    "pca = PCA(0.95)\n",
    "X_pca = \n",
    "X_pca.shape"
   ]
  },
  {
   "cell_type": "markdown",
   "id": "7f25f056",
   "metadata": {},
   "source": [
    "** what did pca fit and transformation to the train data do?"
   ]
  },
  {
   "cell_type": "code",
   "execution_count": 72,
   "id": "79555cf5",
   "metadata": {},
   "outputs": [],
   "source": [
    "# Answer here: "
   ]
  },
  {
   "cell_type": "code",
   "execution_count": null,
   "id": "16ba54b6",
   "metadata": {},
   "outputs": [],
   "source": [
    "X_train_scaled.shape, pca.explained_variance_.shape, pca.explained_variance_, pca.explained_variance_ratio_"
   ]
  },
  {
   "cell_type": "markdown",
   "id": "8acaa8f8",
   "metadata": {},
   "source": [
    "** what is explained_variance?"
   ]
  },
  {
   "cell_type": "code",
   "execution_count": 74,
   "id": "1f322285",
   "metadata": {},
   "outputs": [],
   "source": [
    "# Answer here:"
   ]
  },
  {
   "cell_type": "markdown",
   "id": "6696667b",
   "metadata": {},
   "source": [
    "### The optimal number of clusters k is the one that maximize the average silhouette over a range of possible values for k \n",
    "(Kaufman and Rousseeuw 1990). The algorithm is similar to the elbow method and can be computed as follow: \n",
    "Compute clustering algorithm (e.g., k-means clustering) for different values of k."
   ]
  },
  {
   "cell_type": "code",
   "execution_count": null,
   "id": "feb1b213",
   "metadata": {},
   "outputs": [],
   "source": [
    "# Calculating optimal k for PCA\n",
    "k = 0\n",
    "total = sum(pca.explained_variance_)\n",
    "current_sum = 0\n",
    "\n",
    "while(current_sum / total < 0.98):\n",
    "    current_sum += pca.explained_variance_[k]\n",
    "    k += 1\n",
    "k"
   ]
  },
  {
   "cell_type": "markdown",
   "id": "95fa1910",
   "metadata": {},
   "source": [
    "** Using optimal k, recreate the instance of PCA"
   ]
  },
  {
   "cell_type": "code",
   "execution_count": 76,
   "id": "17d99070",
   "metadata": {},
   "outputs": [],
   "source": [
    "pca = PCA(n_components=k)\n",
    "\n",
    "X_train_pca = \n",
    "X_test_pca = "
   ]
  },
  {
   "cell_type": "code",
   "execution_count": null,
   "id": "a24e93fd",
   "metadata": {},
   "outputs": [],
   "source": [
    "X_train_pca.shape"
   ]
  },
  {
   "cell_type": "markdown",
   "id": "133bac53",
   "metadata": {},
   "source": [
    "** why is the shape of X_train_pca.shape different from X_train_scaled?"
   ]
  },
  {
   "cell_type": "code",
   "execution_count": 78,
   "id": "8b41a1ff",
   "metadata": {},
   "outputs": [],
   "source": [
    "# Answer here:"
   ]
  },
  {
   "cell_type": "markdown",
   "id": "2d1056fc",
   "metadata": {},
   "source": [
    "** import LogisticRegression class\n",
    "* create an instance LogisticRegression as logreg\n",
    "* fit the training data to the logreg model\n",
    "* Hint: should you use X_train? X_train_flattened? X_train_scaled? X_train_pca?\n",
    "* Hint: for y_train use y_train.ravel()\n",
    "* create y_predict_logreg using the test data\n",
    "* Hint: should you use X_test? X_test_flattened? X_test_scaled? X_test_pca?\n",
    "* import classification_report, accuracy_score\n",
    "* print accuracy_score, classification_report for logreg model"
   ]
  },
  {
   "cell_type": "code",
   "execution_count": 79,
   "id": "024883aa",
   "metadata": {},
   "outputs": [
    {
     "name": "stdout",
     "output_type": "stream",
     "text": [
      "              precision    recall  f1-score   support\n",
      "\n",
      "           0       0.44      0.47      0.45      1000\n",
      "           1       0.45      0.47      0.46      1000\n",
      "           2       0.31      0.27      0.29      1000\n",
      "           3       0.31      0.28      0.29      1000\n",
      "           4       0.35      0.28      0.31      1000\n",
      "           5       0.35      0.34      0.34      1000\n",
      "           6       0.40      0.49      0.44      1000\n",
      "           7       0.45      0.43      0.44      1000\n",
      "           8       0.47      0.52      0.50      1000\n",
      "           9       0.44      0.46      0.45      1000\n",
      "\n",
      "    accuracy                           0.40     10000\n",
      "   macro avg       0.40      0.40      0.40     10000\n",
      "weighted avg       0.40      0.40      0.40     10000\n",
      "\n"
     ]
    },
    {
     "data": {
      "text/plain": [
       "(0.4006, None)"
      ]
     },
     "execution_count": 79,
     "metadata": {},
     "output_type": "execute_result"
    }
   ],
   "source": [
    "from sklearn.linear_model import LogisticRegression\n",
    "logreg = \n",
    "logreg.fit(__________, y_train.ravel())\n",
    "y_pred_logreg = logreg.predict(__________)\n",
    "\n",
    "from sklearn.metrics import classification_report, confusion_matrix, accuracy_score\n",
    "y_pred_logreg = logreg.predict(___________)\n",
    "logistic_regression_score = accuracy_score(_______, y_pred_logreg)\n",
    "logistic_regression_score, print(classification_report(__________, ____________))"
   ]
  },
  {
   "cell_type": "markdown",
   "id": "f79b8596",
   "metadata": {},
   "source": [
    "** import classification_report, confusion_matrix, accuracy_score"
   ]
  },
  {
   "cell_type": "markdown",
   "id": "ec3f33e6",
   "metadata": {},
   "source": [
    "** import RandomForestClassifier class\n",
    "\n",
    "* create an instance randForest\n",
    "* fit the training data to the randForest model\n",
    "* Hint: should you use X_train? X_train_flattened? X_train_scaled? X_train_pca?\n",
    "* Hint: for y_train use y_train.ravel()\n",
    "* create y_predict_randForest using the test data\n",
    "* Hint: should you use X_test? X_test_flattened? X_test_scaled? X_test_pca?\n",
    "* print accuracy_score, classification_report for randForest model"
   ]
  },
  {
   "cell_type": "code",
   "execution_count": 80,
   "id": "212c2003",
   "metadata": {},
   "outputs": [
    {
     "name": "stdout",
     "output_type": "stream",
     "text": [
      "              precision    recall  f1-score   support\n",
      "\n",
      "           0       0.52      0.55      0.53      1000\n",
      "           1       0.50      0.58      0.54      1000\n",
      "           2       0.36      0.29      0.32      1000\n",
      "           3       0.30      0.24      0.27      1000\n",
      "           4       0.40      0.38      0.39      1000\n",
      "           5       0.42      0.39      0.40      1000\n",
      "           6       0.46      0.54      0.50      1000\n",
      "           7       0.47      0.43      0.45      1000\n",
      "           8       0.55      0.60      0.57      1000\n",
      "           9       0.45      0.49      0.47      1000\n",
      "\n",
      "    accuracy                           0.45     10000\n",
      "   macro avg       0.44      0.45      0.44     10000\n",
      "weighted avg       0.44      0.45      0.44     10000\n",
      "\n"
     ]
    },
    {
     "data": {
      "text/plain": [
       "(0.4499, None)"
      ]
     },
     "execution_count": 80,
     "metadata": {},
     "output_type": "execute_result"
    }
   ],
   "source": [
    "from sklearn.ensemble import RandomForestClassifier\n",
    "randForest = RandomForestClassifier()\n",
    "randForest.fit(_________, ______________)\n",
    "\n",
    "y_pred_randForest = randForest.predict(_________)\n",
    "\n",
    "random_forest_score = accuracy_score(_______, _________________)\n",
    "random_forest_score, print(classification_report(y_test, ________))"
   ]
  },
  {
   "cell_type": "markdown",
   "id": "a4cd87e2",
   "metadata": {},
   "source": [
    "** import svm class\n",
    "\n",
    "* create an instance svc = svm.SVC()\n",
    "* fit the training data to the svm model\n",
    "* Hint: should you use X_train? X_train_flattened? X_train_scaled? X_train_pca?\n",
    "* Hint: for y_train use y_train.ravel()\n",
    "* create y_predict_svm using the test data\n",
    "* Hint: should you use X_test? X_test_flattened? X_test_scaled? X_test_pca?\n",
    "* print accuracy_score, classification_report for svm model"
   ]
  },
  {
   "cell_type": "code",
   "execution_count": 81,
   "id": "d1e3e7ec",
   "metadata": {},
   "outputs": [
    {
     "name": "stdout",
     "output_type": "stream",
     "text": [
      "              precision    recall  f1-score   support\n",
      "\n",
      "           0       0.64      0.61      0.63      1000\n",
      "           1       0.64      0.69      0.66      1000\n",
      "           2       0.44      0.42      0.43      1000\n",
      "           3       0.40      0.42      0.41      1000\n",
      "           4       0.50      0.46      0.48      1000\n",
      "           5       0.48      0.45      0.47      1000\n",
      "           6       0.58      0.62      0.60      1000\n",
      "           7       0.65      0.59      0.62      1000\n",
      "           8       0.69      0.67      0.68      1000\n",
      "           9       0.56      0.63      0.59      1000\n",
      "\n",
      "    accuracy                           0.56     10000\n",
      "   macro avg       0.56      0.56      0.56     10000\n",
      "weighted avg       0.56      0.56      0.56     10000\n",
      "\n"
     ]
    },
    {
     "data": {
      "text/plain": [
       "(0.5562, None)"
      ]
     },
     "execution_count": 81,
     "metadata": {},
     "output_type": "execute_result"
    }
   ],
   "source": [
    "from sklearn import svm\n",
    "svc = svm.SVC()\n",
    "svc.fit(__________, __________)\n",
    "\n",
    "y_pred_svm = svc.predict(____________)\n",
    "\n",
    "svm_score = accuracy_score(___________, ___________)\n",
    "svm_score, print(classification_report(___________, ______________))"
   ]
  },
  {
   "cell_type": "markdown",
   "id": "c7e50d7f",
   "metadata": {},
   "source": [
    "** import KNeighborsClassifier class\n",
    "\n",
    "* create an instance knn with k = 30\n",
    "* fit the training data to the knn model\n",
    "* Hint: should you use X_train? X_train_flattened? X_train_scaled? X_train_pca?\n",
    "* Hint: for y_train use y_train.ravel()\n",
    "* create y_predict_knn using the test data\n",
    "* Hint: should you use X_test? X_test_flattened? X_test_scaled? X_test_pca?\n",
    "* print accuracy_score, classification_report for knn model"
   ]
  },
  {
   "cell_type": "markdown",
   "id": "44ba0afa",
   "metadata": {},
   "source": [
    "** what is the name of the method to calculate appropriate k for KNeighborsClassifier"
   ]
  },
  {
   "cell_type": "code",
   "execution_count": null,
   "id": "7b4aeb24",
   "metadata": {},
   "outputs": [],
   "source": [
    "# Answer here:"
   ]
  },
  {
   "cell_type": "code",
   "execution_count": 84,
   "id": "fa151542",
   "metadata": {},
   "outputs": [
    {
     "name": "stdout",
     "output_type": "stream",
     "text": [
      "              precision    recall  f1-score   support\n",
      "\n",
      "           0       0.35      0.41      0.38      1000\n",
      "           1       1.00      0.02      0.04      1000\n",
      "           2       0.19      0.32      0.24      1000\n",
      "           3       0.34      0.02      0.03      1000\n",
      "           4       0.17      0.76      0.27      1000\n",
      "           5       0.65      0.01      0.02      1000\n",
      "           6       0.40      0.07      0.11      1000\n",
      "           7       0.93      0.03      0.05      1000\n",
      "           8       0.31      0.72      0.43      1000\n",
      "           9       0.00      0.00      0.00      1000\n",
      "\n",
      "    accuracy                           0.23     10000\n",
      "   macro avg       0.43      0.23      0.16     10000\n",
      "weighted avg       0.43      0.23      0.16     10000\n",
      "\n"
     ]
    },
    {
     "name": "stderr",
     "output_type": "stream",
     "text": [
      "C:\\Users\\kkhan\\Anaconda3\\lib\\site-packages\\sklearn\\metrics\\_classification.py:1248: UndefinedMetricWarning: Precision and F-score are ill-defined and being set to 0.0 in labels with no predicted samples. Use `zero_division` parameter to control this behavior.\n",
      "  _warn_prf(average, modifier, msg_start, len(result))\n",
      "C:\\Users\\kkhan\\Anaconda3\\lib\\site-packages\\sklearn\\metrics\\_classification.py:1248: UndefinedMetricWarning: Precision and F-score are ill-defined and being set to 0.0 in labels with no predicted samples. Use `zero_division` parameter to control this behavior.\n",
      "  _warn_prf(average, modifier, msg_start, len(result))\n",
      "C:\\Users\\kkhan\\Anaconda3\\lib\\site-packages\\sklearn\\metrics\\_classification.py:1248: UndefinedMetricWarning: Precision and F-score are ill-defined and being set to 0.0 in labels with no predicted samples. Use `zero_division` parameter to control this behavior.\n",
      "  _warn_prf(average, modifier, msg_start, len(result))\n"
     ]
    },
    {
     "data": {
      "text/plain": [
       "(0.4499, None)"
      ]
     },
     "execution_count": 84,
     "metadata": {},
     "output_type": "execute_result"
    }
   ],
   "source": [
    "from sklearn.neighbors import KNeighborsClassifier\n",
    "knn = KNeighborsClassifier(n_neighbors=______)\n",
    "knn.fit(___________, ______________)\n",
    "\n",
    "y_predict_knn = knn.predict(_____________)\n",
    "\n",
    "knn_score = accuracy_score(___________, ___________)\n",
    "knn_score, print(classification_report(___________, _____________))"
   ]
  },
  {
   "cell_type": "markdown",
   "id": "28ea7477",
   "metadata": {},
   "source": [
    "** Create NN model using 1 layer as below, sigmoid, adm, accuracy, sparse_categorical_crossentropy"
   ]
  },
  {
   "cell_type": "code",
   "execution_count": 85,
   "id": "c893d257",
   "metadata": {},
   "outputs": [],
   "source": [
    "model = keras.Sequential([\n",
    "    keras.layers.Dense(10, activation='________', input_shape=(3072,))\n",
    "])\n",
    "#model.add(keras.layers.Dense(10, activation='sigmoid', input_shape=(784,))) #10 output\n",
    "model.compile(\n",
    "    optimizer='_______', \n",
    "    loss = '______________',\n",
    "    metrics=['___________']\n",
    ")"
   ]
  },
  {
   "cell_type": "code",
   "execution_count": 86,
   "id": "bd617fdd",
   "metadata": {},
   "outputs": [
    {
     "name": "stdout",
     "output_type": "stream",
     "text": [
      "Epoch 1/5\n",
      "1563/1563 [==============================] - 3s 1ms/step - loss: 99.7413 - accuracy: 0.2390\n",
      "Epoch 2/5\n",
      "1563/1563 [==============================] - 2s 1ms/step - loss: 92.6073 - accuracy: 0.2608\n",
      "Epoch 3/5\n",
      "1563/1563 [==============================] - 2s 1ms/step - loss: 84.4556 - accuracy: 0.2670\n",
      "Epoch 4/5\n",
      "1563/1563 [==============================] - 2s 1ms/step - loss: 88.1462 - accuracy: 0.2718\n",
      "Epoch 5/5\n",
      "1563/1563 [==============================] - 2s 1ms/step - loss: 82.8663 - accuracy: 0.2761\n"
     ]
    },
    {
     "data": {
      "text/plain": [
       "<keras.callbacks.History at 0x2a98c392970>"
      ]
     },
     "execution_count": 86,
     "metadata": {},
     "output_type": "execute_result"
    }
   ],
   "source": [
    "# Hint: should you use X_test? X_test_flattened? X_test_scaled? X_test_pca?\n",
    "model.fit(____________, _________, epochs=5)"
   ]
  },
  {
   "cell_type": "code",
   "execution_count": 87,
   "id": "6c34770b",
   "metadata": {},
   "outputs": [
    {
     "name": "stdout",
     "output_type": "stream",
     "text": [
      "313/313 [==============================] - 0s 851us/step - loss: 81.0010 - accuracy: 0.2492\n"
     ]
    },
    {
     "data": {
      "text/plain": [
       "[81.00102996826172, 0.2492000013589859]"
      ]
     },
     "execution_count": 87,
     "metadata": {},
     "output_type": "execute_result"
    }
   ],
   "source": [
    "model.evaluate(_____________, _____________)"
   ]
  },
  {
   "cell_type": "code",
   "execution_count": 89,
   "id": "0e873f75",
   "metadata": {},
   "outputs": [
    {
     "data": {
      "text/plain": [
       "<matplotlib.image.AxesImage at 0x2a99b43adc0>"
      ]
     },
     "execution_count": 89,
     "metadata": {},
     "output_type": "execute_result"
    },
    {
     "data": {
      "image/png": "[encoded data removed]",
      "text/plain": [
       "<Figure size 288x288 with 1 Axes>"
      ]
     },
     "metadata": {
      "needs_background": "light"
     },
     "output_type": "display_data"
    }
   ],
   "source": [
    "plt.matshow(X_test[0])"
   ]
  },
  {
   "cell_type": "code",
   "execution_count": 90,
   "id": "c34b8f9b",
   "metadata": {},
   "outputs": [],
   "source": [
    "y_predicted = model.predict(______________)"
   ]
  },
  {
   "cell_type": "code",
   "execution_count": 91,
   "id": "a94ec9d8",
   "metadata": {},
   "outputs": [
    {
     "data": {
      "text/plain": [
       "array([1., 1., 1., 1., 1., 1., 1., 1., 1., 1.], dtype=float32)"
      ]
     },
     "execution_count": 91,
     "metadata": {},
     "output_type": "execute_result"
    }
   ],
   "source": [
    "y_predicted[0]"
   ]
  },
  {
   "cell_type": "markdown",
   "id": "1a6d0e2c",
   "metadata": {},
   "source": [
    "** Create NN model using 2 layer as below, relu, accuracy, sparse_categorical_crossentropy, sigmoid, adm "
   ]
  },
  {
   "cell_type": "code",
   "execution_count": 92,
   "id": "074e5529",
   "metadata": {},
   "outputs": [],
   "source": [
    "# add hidden layer and change hidden function\n",
    "model = keras.Sequential([\n",
    "    keras.layers.Dense(100, activation='_____________', input_shape=(3072,)),\n",
    "    keras.layers.Dense(10, activation='_____________')\n",
    "])\n",
    "\n",
    "model.compile(\n",
    "    optimizer='___________', \n",
    "    loss = '________________________',\n",
    "    metrics=['_______________']\n",
    ")"
   ]
  },
  {
   "cell_type": "code",
   "execution_count": 93,
   "id": "431d4986",
   "metadata": {},
   "outputs": [
    {
     "name": "stdout",
     "output_type": "stream",
     "text": [
      "Epoch 1/5\n",
      "1563/1563 [==============================] - 3s 2ms/step - loss: 11.3251 - accuracy: 0.1108\n",
      "Epoch 2/5\n",
      "1563/1563 [==============================] - 3s 2ms/step - loss: 2.3031 - accuracy: 0.0974\n",
      "Epoch 3/5\n",
      "1563/1563 [==============================] - 3s 2ms/step - loss: 2.3027 - accuracy: 0.0992\n",
      "Epoch 4/5\n",
      "1563/1563 [==============================] - 3s 2ms/step - loss: 2.3026 - accuracy: 0.0983\n",
      "Epoch 5/5\n",
      "1563/1563 [==============================] - 3s 2ms/step - loss: 2.3029 - accuracy: 0.0961\n"
     ]
    },
    {
     "data": {
      "text/plain": [
       "<keras.callbacks.History at 0x2a99b40afd0>"
      ]
     },
     "execution_count": 93,
     "metadata": {},
     "output_type": "execute_result"
    }
   ],
   "source": [
    "model.fit(_____________, ________________, epochs=5)"
   ]
  },
  {
   "cell_type": "code",
   "execution_count": 94,
   "id": "bdef023d",
   "metadata": {},
   "outputs": [
    {
     "name": "stdout",
     "output_type": "stream",
     "text": [
      "313/313 [==============================] - 0s 1ms/step - loss: 2.3029 - accuracy: 0.1001\n"
     ]
    },
    {
     "data": {
      "text/plain": [
       "[2.3029258251190186, 0.10010000318288803]"
      ]
     },
     "execution_count": 94,
     "metadata": {},
     "output_type": "execute_result"
    }
   ],
   "source": [
    "model.evaluate(___________, ______________)"
   ]
  },
  {
   "cell_type": "markdown",
   "id": "6b480909",
   "metadata": {},
   "source": [
    "** Create NN model using 2 layer as below, relu, accuracy, sparse_categorical_crossentropy, sigmoid, adm "
   ]
  },
  {
   "cell_type": "code",
   "execution_count": 97,
   "id": "0954d7c8",
   "metadata": {},
   "outputs": [
    {
     "name": "stdout",
     "output_type": "stream",
     "text": [
      "Epoch 1/5\n",
      "1563/1563 [==============================] - 3s 2ms/step - loss: 11.3877 - accuracy: 0.1062\n",
      "Epoch 2/5\n",
      "1563/1563 [==============================] - 3s 2ms/step - loss: 2.3034 - accuracy: 0.0986\n",
      "Epoch 3/5\n",
      "1563/1563 [==============================] - 3s 2ms/step - loss: 2.3029 - accuracy: 0.0976\n",
      "Epoch 4/5\n",
      "1563/1563 [==============================] - 3s 2ms/step - loss: 2.3029 - accuracy: 0.0980\n",
      "Epoch 5/5\n",
      "1563/1563 [==============================] - 3s 2ms/step - loss: 2.3027 - accuracy: 0.1003\n"
     ]
    },
    {
     "data": {
      "text/plain": [
       "<keras.callbacks.History at 0x2a98a997ee0>"
      ]
     },
     "execution_count": 97,
     "metadata": {},
     "output_type": "execute_result"
    }
   ],
   "source": [
    "# not preferred to make flatten array; keras comes up with a layer called flatten\n",
    "model = keras.Sequential([\n",
    "    keras.layers.Flatten(input_shape=(32, 32, 3)),\n",
    "    keras.layers.Dense(100, activation='____________'),\n",
    "    keras.layers.Dense(10, activation='________________')\n",
    "])\n",
    "#model.add(keras.layers.Dense(10, activation='sigmoid', input_shape=(784,))) #10 output\n",
    "model.compile(\n",
    "    optimizer='_______________', \n",
    "    loss = '_______________________',\n",
    "    metrics=['_________________']\n",
    ")\n",
    "model.fit(X_train, y_train, epochs=5)"
   ]
  },
  {
   "cell_type": "code",
   "execution_count": 98,
   "id": "263c279b",
   "metadata": {},
   "outputs": [
    {
     "name": "stdout",
     "output_type": "stream",
     "text": [
      "313/313 [==============================] - 0s 1ms/step - loss: 2.3059 - accuracy: 0.1000\n"
     ]
    },
    {
     "data": {
      "text/plain": [
       "[2.30586838722229, 0.10000000149011612]"
      ]
     },
     "execution_count": 98,
     "metadata": {},
     "output_type": "execute_result"
    }
   ],
   "source": [
    "model.evaluate(_________, ____________)"
   ]
  },
  {
   "cell_type": "markdown",
   "id": "fa87b76a",
   "metadata": {},
   "source": [
    "** Create CNN model using the syntax as below, relu, accuracy, sparse_categorical_crossentropy, sigmoid, adm "
   ]
  },
  {
   "cell_type": "code",
   "execution_count": 99,
   "id": "a1627ce6",
   "metadata": {},
   "outputs": [
    {
     "name": "stdout",
     "output_type": "stream",
     "text": [
      "Epoch 1/5\n",
      "1563/1563 [==============================] - 16s 10ms/step - loss: 3.3692 - accuracy: 0.3228\n",
      "Epoch 2/5\n",
      "1563/1563 [==============================] - 17s 11ms/step - loss: 1.4972 - accuracy: 0.4790\n",
      "Epoch 3/5\n",
      "1563/1563 [==============================] - 17s 11ms/step - loss: 1.2831 - accuracy: 0.5504\n",
      "Epoch 4/5\n",
      "1563/1563 [==============================] - 18s 11ms/step - loss: 1.1224 - accuracy: 0.6076\n",
      "Epoch 5/5\n",
      "1563/1563 [==============================] - 16s 10ms/step - loss: 0.9782 - accuracy: 0.6596\n"
     ]
    },
    {
     "data": {
      "text/plain": [
       "<keras.callbacks.History at 0x2a98a992250>"
      ]
     },
     "execution_count": 99,
     "metadata": {},
     "output_type": "execute_result"
    }
   ],
   "source": [
    "model = keras.Sequential([\n",
    "    keras.layers.Conv2D(30, (3,3), activation='___________', input_shape=(32, 32, 3)),\n",
    "    keras.layers.MaxPooling2D((2,2)),\n",
    "\n",
    "    keras.layers.Flatten(),\n",
    "    keras.layers.Dense(100, activation = '____________'),\n",
    "    keras.layers.Dense(10, activation='_________________')\n",
    "])\n",
    "\n",
    "model.compile(optimizer='______________',\n",
    "              loss='__________________',\n",
    "              metrics=['________________'])\n",
    "model.fit(______________, ______________, epochs=5)"
   ]
  },
  {
   "cell_type": "code",
   "execution_count": null,
   "id": "33b87f51",
   "metadata": {},
   "outputs": [],
   "source": [
    "model.evaluate(______________, ____________)"
   ]
  }
 ],
 "metadata": {
  "kernelspec": {
   "display_name": "Python 3 (ipykernel)",
   "language": "python",
   "name": "python3"
  },
  "language_info": {
   "codemirror_mode": {
    "name": "ipython",
    "version": 3
   },
   "file_extension": ".py",
   "mimetype": "text/x-python",
   "name": "python",
   "nbconvert_exporter": "python",
   "pygments_lexer": "ipython3",
   "version": "3.9.7"
  }
 },
 "nbformat": 4,
 "nbformat_minor": 5
}
